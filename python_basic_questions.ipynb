{
 "cells": [
  {
   "cell_type": "markdown",
   "id": "bd69456a-cd39-41de-b1a2-695a006b07df",
   "metadata": {},
   "source": [
    "Python Basics Questions"
   ]
  },
  {
   "cell_type": "markdown",
   "id": "55715cb7-3068-4f5f-a408-804fe7a5325c",
   "metadata": {},
   "source": [
    "1.What is Python, and why is it popular"
   ]
  },
  {
   "cell_type": "markdown",
   "id": "730b4fd5-75ad-487a-92ea-3db4cc22b188",
   "metadata": {},
   "source": [
    "Ans: python is a programming language ,and it is more popular because this programming language is easy to learn and it provides a lot of libraries line numpy,pandas,matplotlib etc and \n",
    "it provides a large community."
   ]
  },
  {
   "cell_type": "markdown",
   "id": "913b2944-97c9-4602-8153-2e9b37d4a317",
   "metadata": {},
   "source": [
    "2.What are pre-defined keywords in Python ?\n"
   ]
  },
  {
   "cell_type": "markdown",
   "id": "c5b88b07-08d1-4126-82c1-72a2eedef333",
   "metadata": {},
   "source": [
    "Ans:  keywords like if,for,elif,while,def etc have special meaning and can't be used as variable name.  "
   ]
  },
  {
   "cell_type": "markdown",
   "id": "a3b11f8e-cd91-43a5-b057-400c007b5a04",
   "metadata": {},
   "source": [
    "3.What is an interpreter in Python?"
   ]
  },
  {
   "cell_type": "markdown",
   "id": "19b19bde-9b1c-4ae0-b9cb-4ba9597247b5",
   "metadata": {},
   "source": [
    "Ans Interpreter in python executes the instruction given by programmer line by line."
   ]
  },
  {
   "cell_type": "markdown",
   "id": "aa90d957-d685-4f00-8cec-e098cebfc253",
   "metadata": {},
   "source": [
    "4.Can keywords be used as variable names?"
   ]
  },
  {
   "cell_type": "markdown",
   "id": "988ec1d9-971a-484e-b772-457c62c75172",
   "metadata": {},
   "source": [
    "Ans: NO "
   ]
  },
  {
   "cell_type": "markdown",
   "id": "5292c234-b8eb-438e-8085-5761436001bd",
   "metadata": {},
   "source": [
    "5.What is mutability in Python?"
   ]
  },
  {
   "cell_type": "markdown",
   "id": "bd741e9e-8844-41e3-a0c8-da820fe95656",
   "metadata": {},
   "source": [
    "Ans: Mutabilty helps in memory efficiency and performance mutable types can be modify without creating new objects."
   ]
  },
  {
   "cell_type": "markdown",
   "id": "2a79a305-7970-4142-afce-3d9057bbbe59",
   "metadata": {},
   "source": [
    "6.Why are lists mutable, but tuples are immutable?"
   ]
  },
  {
   "cell_type": "markdown",
   "id": "80ab3e54-6bf6-4711-a17b-3cfb684158c5",
   "metadata": {},
   "source": [
    "Ans: Lists are mutable to provide flexibility when you need to modify collection of data.Tuples are immutable by design for several reasons:\n",
    "a.)To ensure data integrity \n",
    "b.)For faster access and execution ."
   ]
  },
  {
   "cell_type": "markdown",
   "id": "cd8194dc-756f-42b9-bf34-cfd7bd228be3",
   "metadata": {},
   "source": [
    "7. What is the difference between “==” and “is” operators in Python?"
   ]
  },
  {
   "cell_type": "markdown",
   "id": "e7a4fc2e-e65e-4908-a207-62021374e958",
   "metadata": {},
   "source": [
    "Ans : '==' compares the value or equality of two objects its comparison operators and \"is\" compares the identity of the object i.e, if they are same object in the memory."
   ]
  },
  {
   "cell_type": "markdown",
   "id": "1bdaf075-e1f5-4582-ad2d-fb81b3a721e0",
   "metadata": {},
   "source": [
    "8. What are logical operators in Python?"
   ]
  },
  {
   "cell_type": "markdown",
   "id": "c4d73cb1-1db1-4c54-b144-d7fcde71ad83",
   "metadata": {},
   "source": [
    "Ans: Logical operators are :\n",
    "   and : return true if both conditions are true.\n",
    "   or: returns true if atleast one condition is true.\n",
    "   not: returns reverse the result ."
   ]
  },
  {
   "cell_type": "markdown",
   "id": "7dc4bc8c-7543-41f3-b239-9361f51e8b7e",
   "metadata": {},
   "source": [
    "9.What is type casting in Python?"
   ]
  },
  {
   "cell_type": "markdown",
   "id": "a6a4c9cf-2beb-427d-8d02-95c86e1663f7",
   "metadata": {},
   "source": [
    "Ans: converting one data type into another.\n",
    "There are two types of typecasting:\n",
    "a.) explicit typecasting.(by programmer)\n",
    "b.) implicit typecasting.(by default )"
   ]
  },
  {
   "cell_type": "markdown",
   "id": "608a1a00-605b-4c83-a0bc-8542eba4c139",
   "metadata": {},
   "source": [
    "10. What is the difference between implicit and explicit type casting?"
   ]
  },
  {
   "cell_type": "markdown",
   "id": "61592c80-0b77-447b-be8c-4acbc68557f3",
   "metadata": {},
   "source": [
    "Ans: Implicit : done automatically by python.\n",
    "    Explicit : Done manually using functions."
   ]
  },
  {
   "cell_type": "markdown",
   "id": "10c66d59-f5d2-40b8-815d-9493e09b7c42",
   "metadata": {},
   "source": [
    "What is the purpose of conditional statements in Python?\n"
   ]
  },
  {
   "cell_type": "markdown",
   "id": "2d55fc41-2591-43e9-a1f3-727e51fc7500",
   "metadata": {},
   "source": [
    "Purpose: helps in Decision making and \n",
    "        it controls the flow based on condition."
   ]
  },
  {
   "cell_type": "markdown",
   "id": "e1aaeea0-9be8-44a6-a9da-4f3478696862",
   "metadata": {},
   "source": [
    "12.How does the elif statement work"
   ]
  },
  {
   "cell_type": "markdown",
   "id": "d2c6ed65-5afb-4d8c-b257-48e9346470a8",
   "metadata": {},
   "source": [
    "elif (else if) checks another condition if the previous if is false."
   ]
  },
  {
   "cell_type": "markdown",
   "id": "41724dae-676c-430d-a70f-12d36bf370bc",
   "metadata": {},
   "source": [
    "13.What is the difference between for and while loops?"
   ]
  },
  {
   "cell_type": "markdown",
   "id": "7afecd00-3f85-4acb-9111-e7e865add0ee",
   "metadata": {},
   "source": [
    "for loops uses if no. of itertion  is known. and while loop used when the loop run until a condition become false."
   ]
  },
  {
   "cell_type": "markdown",
   "id": "97b0e646-776e-4fc6-bb99-d2d1fde1ae1f",
   "metadata": {},
   "source": [
    "14.Describe a scenario where a while loop is more suitable than a for loop."
   ]
  },
  {
   "cell_type": "markdown",
   "id": "3abd8588-3922-463c-9b83-8a2533665c3a",
   "metadata": {},
   "source": [
    "A while loop is better when the no. of iteration is unknown.\n"
   ]
  },
  {
   "cell_type": "markdown",
   "id": "275abd25-0e75-415a-ab5d-a1a340273db4",
   "metadata": {},
   "source": [
    " example : \n",
    " password=\"\"\n",
    "while password !=\"admin\";\n",
    "password=input(\"enter password: \")\n",
    "\n"
   ]
  },
  {
   "cell_type": "markdown",
   "id": "bbcb965d-111e-40ec-aa75-7d3d86304327",
   "metadata": {},
   "source": [
    "PRACTICAL QUESTIONS "
   ]
  },
  {
   "cell_type": "markdown",
   "id": "7a6d4b5a-69af-4402-a743-25288500f9a7",
   "metadata": {},
   "source": [
    "1.)Write a Python program to print \"Hello, World!"
   ]
  },
  {
   "cell_type": "code",
   "execution_count": 10,
   "id": "a9e2a532-fe00-4c49-b56a-9e84e879cba9",
   "metadata": {},
   "outputs": [
    {
     "name": "stdout",
     "output_type": "stream",
     "text": [
      "hello,World!\n"
     ]
    }
   ],
   "source": [
    "print(\"hello,World!\")"
   ]
  },
  {
   "cell_type": "markdown",
   "id": "48c1ed10-b589-4792-ad87-cd171d85561d",
   "metadata": {},
   "source": [
    "2.)Write a Python program that displays your name and age"
   ]
  },
  {
   "cell_type": "code",
   "execution_count": 12,
   "id": "190e1562-0c4f-4431-a696-40e15ac08224",
   "metadata": {},
   "outputs": [
    {
     "name": "stdout",
     "output_type": "stream",
     "text": [
      "Name:Ronak Kumar\n",
      "Age:24\n"
     ]
    }
   ],
   "source": [
    "print(\"Name:Ronak Kumar\")\n",
    "print(\"Age:24\" )     "
   ]
  },
  {
   "cell_type": "markdown",
   "id": "8f0e63c9-545e-4828-ad3d-e708d6cf0191",
   "metadata": {},
   "source": [
    "3.)Write code to print all the pre-defined keywords in Python using the keyword library"
   ]
  },
  {
   "cell_type": "code",
   "execution_count": 14,
   "id": "d3e3239f-0ae4-496b-a44f-31e0db762def",
   "metadata": {},
   "outputs": [
    {
     "name": "stdout",
     "output_type": "stream",
     "text": [
      "\n",
      "Here is a list of the Python keywords.  Enter any keyword to get more help.\n",
      "\n",
      "False               class               from                or\n",
      "None                continue            global              pass\n",
      "True                def                 if                  raise\n",
      "and                 del                 import              return\n",
      "as                  elif                in                  try\n",
      "assert              else                is                  while\n",
      "async               except              lambda              with\n",
      "await               finally             nonlocal            yield\n",
      "break               for                 not                 \n",
      "\n"
     ]
    }
   ],
   "source": [
    "help(\"keywords\")"
   ]
  },
  {
   "cell_type": "markdown",
   "id": "c1bcd374-1dff-4183-8db8-08a4f27bf2b8",
   "metadata": {},
   "source": [
    "4.)Write a program that checks if a given word is a Python keyword."
   ]
  },
  {
   "cell_type": "code",
   "execution_count": 19,
   "id": "790da2ce-a5e2-4909-a36f-940b4525adb9",
   "metadata": {},
   "outputs": [
    {
     "name": "stdin",
     "output_type": "stream",
     "text": [
      "enter a word:  def\n"
     ]
    },
    {
     "name": "stdout",
     "output_type": "stream",
     "text": [
      "given input is keyword\n"
     ]
    }
   ],
   "source": [
    "\n",
    "import keyword\n",
    "word=input(\"enter a word: \")\n",
    "if keyword.iskeyword(word) :\n",
    "    print(\"given input is keyword\")\n",
    "else:\n",
    "    print(\"not keyword\")\n",
    "    "
   ]
  },
  {
   "cell_type": "markdown",
   "id": "6aa7e3f4-efca-4565-aef5-9abc687d9bc0",
   "metadata": {},
   "source": [
    "5.)Create a list and tuple in Python, and demonstrate how attempting to change an element works differently\n",
    "for each."
   ]
  },
  {
   "cell_type": "code",
   "execution_count": 4,
   "id": "43412465-00e9-48e4-85ca-994efe865316",
   "metadata": {},
   "outputs": [
    {
     "data": {
      "text/plain": [
       "[1, 2, 3, 'ronak', 'kumar', 3.77]"
      ]
     },
     "execution_count": 4,
     "metadata": {},
     "output_type": "execute_result"
    }
   ],
   "source": [
    "my_list=[1,2,3,\"ronak\",2+3J,3.77]\n",
    "my_tuple=(1,2,3,5,4,5)\n",
    "my_list[4]=\"kumar\"\n",
    "my_list"
   ]
  },
  {
   "cell_type": "code",
   "execution_count": 5,
   "id": "0a218e0f-927b-4b9e-af72-d0d375119950",
   "metadata": {},
   "outputs": [
    {
     "ename": "TypeError",
     "evalue": "'tuple' object does not support item assignment",
     "output_type": "error",
     "traceback": [
      "\u001b[1;31m---------------------------------------------------------------------------\u001b[0m",
      "\u001b[1;31mTypeError\u001b[0m                                 Traceback (most recent call last)",
      "Cell \u001b[1;32mIn[5], line 1\u001b[0m\n\u001b[1;32m----> 1\u001b[0m my_tuple[\u001b[38;5;241m4\u001b[39m]\u001b[38;5;241m=\u001b[39m\u001b[38;5;241m100\u001b[39m\n",
      "\u001b[1;31mTypeError\u001b[0m: 'tuple' object does not support item assignment"
     ]
    }
   ],
   "source": [
    "my_tuple[4]=100"
   ]
  },
  {
   "cell_type": "markdown",
   "id": "9c9578bb-1a7b-458f-8083-4be943678f50",
   "metadata": {},
   "source": [
    "6.Write a function to demonstrate the behavior of mutable and immutable arguments.\n",
    "\n"
   ]
  },
  {
   "cell_type": "code",
   "execution_count": 21,
   "id": "8374b9ea-e290-4de4-808e-c5caa013e198",
   "metadata": {},
   "outputs": [
    {
     "name": "stdout",
     "output_type": "stream",
     "text": [
      "[1, 99, 3, 4, 5]\n"
     ]
    }
   ],
   "source": [
    "my_list=[1,2,3,4,5] #mutable properties\n",
    "my_tuple=(1,2,3,4,5)\n",
    "my_list[1]=99\n",
    "print(my_list)"
   ]
  },
  {
   "cell_type": "code",
   "execution_count": 22,
   "id": "cba51bb1-9e7f-401e-bda2-7d2fc8117c7d",
   "metadata": {},
   "outputs": [
    {
     "ename": "TypeError",
     "evalue": "'tuple' object does not support item assignment",
     "output_type": "error",
     "traceback": [
      "\u001b[1;31m---------------------------------------------------------------------------\u001b[0m",
      "\u001b[1;31mTypeError\u001b[0m                                 Traceback (most recent call last)",
      "Cell \u001b[1;32mIn[22], line 1\u001b[0m\n\u001b[1;32m----> 1\u001b[0m my_tuple[\u001b[38;5;241m1\u001b[39m]\u001b[38;5;241m=\u001b[39m\u001b[38;5;241m99\u001b[39m\n\u001b[0;32m      2\u001b[0m my_tuple\n",
      "\u001b[1;31mTypeError\u001b[0m: 'tuple' object does not support item assignment"
     ]
    }
   ],
   "source": [
    "my_tuple[1]=99 #immutable properties \n",
    "my_tuple "
   ]
  },
  {
   "cell_type": "markdown",
   "id": "7908ae0a-91ea-48bd-a8cb-13c0f7693e22",
   "metadata": {},
   "source": [
    "7. Write a program that performs basic arithmetic operations on two user-input numbers."
   ]
  },
  {
   "cell_type": "code",
   "execution_count": 28,
   "id": "34ddcb60-6d41-4253-9bf5-8d285f0930c2",
   "metadata": {},
   "outputs": [
    {
     "name": "stdin",
     "output_type": "stream",
     "text": [
      "enter a no. 10\n",
      "enter another no. 20\n"
     ]
    },
    {
     "name": "stdout",
     "output_type": "stream",
     "text": [
      "sum is:  30\n",
      "difference is:  -10\n",
      "product is 200\n"
     ]
    }
   ],
   "source": [
    "num1=int(input(\"enter a no.\"))\n",
    "num2=int(input(\"enter another no.\"))\n",
    "sum=num1+num2\n",
    "print(\"sum is: \",sum)\n",
    "diff=num1-num2\n",
    "print(\"difference is: \",diff)\n",
    "prod=num1*num2\n",
    "print(\"product is\",prod)"
   ]
  },
  {
   "cell_type": "markdown",
   "id": "a0ac4dd0-40f7-4d4a-800d-7639111d6598",
   "metadata": {},
   "source": [
    "8. Write a program to demonstrate the use of logical operators."
   ]
  },
  {
   "cell_type": "code",
   "execution_count": 30,
   "id": "17eef99e-29dd-45e5-81cb-c421f91d6322",
   "metadata": {},
   "outputs": [
    {
     "name": "stdout",
     "output_type": "stream",
     "text": [
      "true\n",
      "false\n",
      "False\n"
     ]
    }
   ],
   "source": [
    "a=\"true\"\n",
    "b=\"false\"\n",
    "sum1=a or b\n",
    "prod= a and b\n",
    "reverse=not a\n",
    "print(sum1)\n",
    "print(prod)\n",
    "print(reverse)"
   ]
  },
  {
   "cell_type": "markdown",
   "id": "dce40725-7efe-4b0e-9c91-b02744bb1b41",
   "metadata": {},
   "source": [
    "9. Write a Python program to convert user input from string to integer, float, and boolean types.\n"
   ]
  },
  {
   "cell_type": "code",
   "execution_count": 14,
   "id": "748c7d30-63be-4841-9b9b-8d2ab1042856",
   "metadata": {},
   "outputs": [
    {
     "name": "stdin",
     "output_type": "stream",
     "text": [
      "enter any input 54\n"
     ]
    },
    {
     "name": "stdout",
     "output_type": "stream",
     "text": [
      "<class 'str'>\n",
      "type of a is <class 'int'>\n",
      "type of b is <class 'float'>\n",
      "type of c is <class 'bool'>\n"
     ]
    }
   ],
   "source": [
    "my_input=input(\"enter any input\")#it takes input by default as string\n",
    "print(type(my_input))\n",
    "a=int(my_input)\n",
    "print(\"type of a is\",type(a))\n",
    "b=float(my_input)\n",
    "print(\"type of b is\",type(b))\n",
    "c=bool(my_input)\n",
    "print(\"type of c is\",type(c))\n"
   ]
  },
  {
   "cell_type": "markdown",
   "id": "6b0f3622-f03d-4cf9-bc6f-dfbfc0be0fce",
   "metadata": {},
   "source": [
    "10. Write code to demonstrate type casting with list elements.\n"
   ]
  },
  {
   "cell_type": "code",
   "execution_count": 15,
   "id": "878ccaac-e80d-4302-b734-2d6e0232d40e",
   "metadata": {},
   "outputs": [
    {
     "data": {
      "text/plain": [
       "[10, 20, 'ronak', 3]"
      ]
     },
     "execution_count": 15,
     "metadata": {},
     "output_type": "execute_result"
    }
   ],
   "source": [
    "my_list=[10,20,'ronak',3.222]\n",
    "my_list[3]=int(my_list[3])\n",
    "my_list"
   ]
  },
  {
   "cell_type": "markdown",
   "id": "a6d0ba34-f4d8-43fb-bad7-f7ed2033a845",
   "metadata": {},
   "source": [
    "11. Write a program that checks if a number is positive, negative, or zero."
   ]
  },
  {
   "cell_type": "code",
   "execution_count": 19,
   "id": "25c2a564-80ad-48d2-b510-daabc5b54698",
   "metadata": {},
   "outputs": [
    {
     "name": "stdin",
     "output_type": "stream",
     "text": [
      "enter any number to check weather its +ve ,-ve or 0:  0\n"
     ]
    },
    {
     "name": "stdout",
     "output_type": "stream",
     "text": [
      "Given no is zero!!!!!!!\n"
     ]
    }
   ],
   "source": [
    "num=int(input(\"enter any number to check weather its +ve ,-ve or 0: \"))\n",
    "if num < 0:\n",
    "    print(\"given no. in negative\")\n",
    "elif num == 0:\n",
    "    print(\"Given no is zero!!!!!!!\")\n",
    "else:\n",
    "    print(\"you have enterd a positive no. hurray!!!!!!!!!!!!!!\")"
   ]
  },
  {
   "cell_type": "markdown",
   "id": "5a7ff755-b3ad-4564-a2f8-78aa1879d989",
   "metadata": {},
   "source": [
    "\n",
    "12. Write a for loop to print numbers from 1 to 10.\n"
   ]
  },
  {
   "cell_type": "code",
   "execution_count": 23,
   "id": "3483a8f3-44cd-4434-be16-69f8a6619349",
   "metadata": {},
   "outputs": [
    {
     "name": "stdout",
     "output_type": "stream",
     "text": [
      "1 2 3 4 5 6 7 8 9 10 "
     ]
    }
   ],
   "source": [
    "for i in range(1,11):\n",
    "    print (i,end=' ')\n",
    "    "
   ]
  },
  {
   "cell_type": "markdown",
   "id": "deb2587e-f026-4d8b-8bd0-8e3230d50c4d",
   "metadata": {},
   "source": [
    "13. Write a Python program to find the sum of all even numbers between 1 and 50."
   ]
  },
  {
   "cell_type": "code",
   "execution_count": 25,
   "id": "1efae413-19d1-467f-a214-2e11da204500",
   "metadata": {},
   "outputs": [
    {
     "name": "stdout",
     "output_type": "stream",
     "text": [
      "650\n"
     ]
    }
   ],
   "source": [
    "sum=0\n",
    "for i in range(1,51):\n",
    "    if i%2==0:\n",
    "        sum+=i\n",
    "print(sum)        "
   ]
  },
  {
   "cell_type": "markdown",
   "id": "0a061bd4-b5d8-4f0d-9816-b644a612b740",
   "metadata": {},
   "source": [
    "14. Write a program to reverse a string using a while loop.\n"
   ]
  },
  {
   "cell_type": "code",
   "execution_count": 30,
   "id": "cbc686f5-5d4a-434e-bd12-ed48d50d96d2",
   "metadata": {},
   "outputs": [
    {
     "name": "stdout",
     "output_type": "stream",
     "text": [
      "reverse string is :  u r woh !!!!!!!!!!ho yeh\n"
     ]
    }
   ],
   "source": [
    "s=\"hey oh!!!!!!!!!! how r u \"\n",
    "rev_strng=\"\"\n",
    "i=len(s)-1\n",
    "#reverse using while loop\n",
    "while i>=0:\n",
    "    rev_strng+=s[i]\n",
    "    i-=1\n",
    "print(\"reverse string is :\",rev_strng)"
   ]
  },
  {
   "cell_type": "markdown",
   "id": "18862aa5-93d0-4d0e-9ef5-7b69a45a976c",
   "metadata": {},
   "source": [
    "\n",
    "15. Write a Python program to calculate the factorial of a number provided by the user using a while loop."
   ]
  },
  {
   "cell_type": "code",
   "execution_count": 32,
   "id": "34046812-8389-4211-b339-2cb91b913d25",
   "metadata": {},
   "outputs": [
    {
     "name": "stdin",
     "output_type": "stream",
     "text": [
      "enter any to no. to calculate its factorial 5\n"
     ]
    },
    {
     "name": "stdout",
     "output_type": "stream",
     "text": [
      "factorial of given no. is  120\n"
     ]
    }
   ],
   "source": [
    "num=int(input(\"enter any to no. to calculate its factorial\"))\n",
    "fact=1\n",
    "i=num\n",
    "while i>0:\n",
    "    fact*=i\n",
    "    i-=1\n",
    "print(\"factorial of given no. is \",fact)\n",
    "\n"
   ]
  },
  {
   "cell_type": "code",
   "execution_count": null,
   "id": "a273b3f9-2280-45f5-972a-84835819ccf1",
   "metadata": {},
   "outputs": [],
   "source": []
  }
 ],
 "metadata": {
  "kernelspec": {
   "display_name": "Python 3 (ipykernel)",
   "language": "python",
   "name": "python3"
  },
  "language_info": {
   "codemirror_mode": {
    "name": "ipython",
    "version": 3
   },
   "file_extension": ".py",
   "mimetype": "text/x-python",
   "name": "python",
   "nbconvert_exporter": "python",
   "pygments_lexer": "ipython3",
   "version": "3.12.7"
  }
 },
 "nbformat": 4,
 "nbformat_minor": 5
}
